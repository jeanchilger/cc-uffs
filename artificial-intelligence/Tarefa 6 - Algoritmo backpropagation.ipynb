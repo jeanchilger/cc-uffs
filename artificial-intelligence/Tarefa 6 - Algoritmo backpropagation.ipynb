{
 "cells": [
  {
   "cell_type": "markdown",
   "id": "fcf7948c",
   "metadata": {},
   "source": [
    "# Aplicação de um MLP em um dataset"
   ]
  },
  {
   "cell_type": "code",
   "execution_count": 55,
   "id": "2e359852",
   "metadata": {},
   "outputs": [],
   "source": [
    "import numpy as np\n",
    "import pandas as pd\n",
    "import matplotlib.pyplot as plt\n",
    "import seaborn as sns\n",
    "%matplotlib inline\n",
    "\n",
    "from sklearn.model_selection import train_test_split"
   ]
  },
  {
   "cell_type": "code",
   "execution_count": 56,
   "id": "acfc81a7",
   "metadata": {},
   "outputs": [],
   "source": [
    "dataset = pd.read_csv('Data.csv')\n",
    "\n",
    "X_train, X_test, y_train, y_test = train_test_split(\n",
    "        dataset.drop(['Output1', 'Output2'],axis=1), \n",
    "        dataset[['Output1', 'Output2']], test_size=0.30, \n",
    "        random_state=101)"
   ]
  },
  {
   "cell_type": "code",
   "execution_count": 57,
   "id": "dae3d475",
   "metadata": {},
   "outputs": [],
   "source": [
    "def sigmoid(z):\n",
    "    return 1 / (1 + np.exp(-z))\n",
    "\n",
    "def sigmoid_prime(x):\n",
    "    return sigmoid(x) * (1 - sigmoid(x))"
   ]
  },
  {
   "cell_type": "markdown",
   "id": "ce7f8166",
   "metadata": {},
   "source": [
    "Alterando os parâmetros abaixo (incluindo a arquitetura da rede) irá ocasionar diferentes resultados."
   ]
  },
  {
   "cell_type": "code",
   "execution_count": 58,
   "id": "4738ec49",
   "metadata": {},
   "outputs": [],
   "source": [
    "shape = (3, 4, 2)\n",
    "learn_rate = 0.5\n",
    "epochs = 5000\n",
    "n_records, n_features = X_train.shape"
   ]
  },
  {
   "cell_type": "code",
   "execution_count": 67,
   "id": "72099e1c",
   "metadata": {},
   "outputs": [
    {
     "name": "stdout",
     "output_type": "stream",
     "text": [
      "Formato dos pesos:  (2, (4, 3), (2, 4))\n",
      "Formato dos biases:  (2, (4,), (2,))\n"
     ]
    }
   ],
   "source": [
    "weights = [np.random.randn(y, x) \n",
    "           for x, y in zip(shape[:-1], shape[1:])]\n",
    "\n",
    "biases = [np.random.randn(x)\n",
    "          for x in shape[1:]]\n",
    "\n",
    "print(\"Formato dos pesos: \", (len(weights), *list(w.shape for w in weights)))\n",
    "print(\"Formato dos biases: \", (len(biases), *list(b.shape for b in biases)))"
   ]
  },
  {
   "cell_type": "markdown",
   "id": "ab74dd56",
   "metadata": {},
   "source": [
    "Para utilizar os mesmos pesos da solução do professor basta utilizar o trecho abaixo:"
   ]
  },
  {
   "cell_type": "code",
   "execution_count": 60,
   "id": "08eec97e",
   "metadata": {},
   "outputs": [
    {
     "name": "stdout",
     "output_type": "stream",
     "text": [
      "Formato dos pesos:  (2, (4, 3), (2, 4))\n",
      "Formato dos biases:  (2, (4,), (2,))\n"
     ]
    }
   ],
   "source": [
    "weights = [\n",
    "    np.array([[-0.08,  0.08, -0.03, 0.03],\n",
    "              [ 0.05,  0.10,  0.07, 0.02],\n",
    "              [-0.07,  0.04, -0.01, 0.01]]).T,\n",
    "    np.array([[-0.18,  0.11],\n",
    "              [-0.09,  0.05],\n",
    "              [-0.04,  0.05],\n",
    "              [-0.02,  0.07]]).T\n",
    "]\n",
    "\n",
    "biases = [\n",
    "    np.zeros(4),\n",
    "    np.zeros(2)\n",
    "]\n",
    "\n",
    "print(\"Formato dos pesos: \", (len(weights), *list(w.shape for w in weights)))\n",
    "print(\"Formato dos biases: \", (len(biases), *list(b.shape for b in biases)))"
   ]
  },
  {
   "cell_type": "code",
   "execution_count": 61,
   "id": "ccb3cedb",
   "metadata": {},
   "outputs": [],
   "source": [
    "def feedforward(x, weights, biases):\n",
    "    \"\"\"\n",
    "    Executa o passo forward da rede, e retorna as\n",
    "    ativações (e produtos) da rede em todas as camadas.\n",
    "    \"\"\"\n",
    "    activations = [x]\n",
    "    activation = x\n",
    "    inner_products = []\n",
    "    \n",
    "    for w, b in zip(weights, biases):\n",
    "        z = np.dot(activation, w.T)\n",
    "        activation = sigmoid(z)\n",
    "        \n",
    "        inner_products.append(z)\n",
    "        activations.append(activation)\n",
    "        \n",
    "    return activations, inner_products"
   ]
  },
  {
   "cell_type": "markdown",
   "id": "0e7f436c",
   "metadata": {},
   "source": [
    "Para o algoritmo de backpropagation, foram utilizadas as equações:\n",
    "\n",
    "$$\n",
    "\\begin{eqnarray} \n",
    "  \\delta^L = (a^L-y) \\odot \\sigma'(z^L).\n",
    "\\tag{1}\\end{eqnarray}\n",
    "$$\n",
    "\n",
    "e\n",
    "\n",
    "$$\n",
    "\\begin{eqnarray} \n",
    "  \\delta^l = ((w^{l+1})^T \\delta^{l+1}) \\odot \\sigma'(z^l),\n",
    "\\tag{2}\\end{eqnarray}\n",
    "$$\n",
    "\n",
    "$(1)$ representa o erro na camada de saída $L$, ao passo que $(2)$ representa o erro em função do erro na camada posterior à camada atual $l$. O símbolo $\\odot$ representa a multiplicação item à item."
   ]
  },
  {
   "cell_type": "code",
   "execution_count": 62,
   "id": "355e8913",
   "metadata": {},
   "outputs": [],
   "source": [
    "def backpropagate(x, y, weights, biases):\n",
    "    \"\"\"\n",
    "    Executa o algoritmo de backpropagation, retornando\n",
    "    as taxas de atualização dos pesos (deltas).\n",
    "    \"\"\"\n",
    "    \n",
    "    activations, products = feedforward(x, weights, biases)\n",
    "    # inicializa o vetor de termos de erros, para que as camadas possam\n",
    "    # ser preenchidas na ordem correta.\n",
    "    delta_w = [np.zeros(w.shape) for w in weights]\n",
    "    \n",
    "    error_term = (y - activations[-1]) * sigmoid_prime(products[-1])\n",
    "    \n",
    "    delta_w[-1] = error_term * activations[-2].reshape(-1, 1)\n",
    "    \n",
    "    for l in range(2, len(shape)):\n",
    "        error_term = np.dot(weights[-l + 1].T, error_term) * sigmoid_prime(products[-l])\n",
    "        \n",
    "        delta_w[-l] = error_term * activations[-l-1].reshape(-1, 1)\n",
    "        \n",
    "    return delta_w"
   ]
  },
  {
   "cell_type": "code",
   "execution_count": 63,
   "id": "0dd3b10f",
   "metadata": {},
   "outputs": [],
   "source": [
    "def train(X, y, weights, biases, epochs=10, learn_rate=0.05):\n",
    "    last_loss = None\n",
    "    history = []\n",
    "    error_index = []\n",
    "\n",
    "    _weights = weights.copy()\n",
    "    _biases = biases.copy()\n",
    "    for epoch in range(epochs):\n",
    "        delta_w = [np.zeros(w.shape) for w in weights]\n",
    "        for x, y in zip(X_train.values, y_train.values):\n",
    "            output = feedforward(x, weights, biases)[0][-1]\n",
    "            delta_w = [d + d_.T for d, d_ in zip(delta_w, backpropagate(x, y, weights, biases))]\n",
    "\n",
    "        weights = [w + learn_rate * d / n_records\n",
    "                   for w, d in zip(weights, delta_w)]\n",
    "        \n",
    "        if  epoch % (epochs / 20) == 0:\n",
    "            output = feedforward(x, weights, biases)[0][-1]\n",
    "            loss = np.mean((output - y) ** 2)\n",
    "\n",
    "            if last_loss and last_loss < loss:\n",
    "                print(\"Erro quadrático no treinamento: \", loss, \" Atenção: O erro está aumentando\")\n",
    "            else:\n",
    "                print(\"Erro quadrático no treinamento: \", loss)\n",
    "            last_loss = loss\n",
    "\n",
    "            history.append(loss)\n",
    "            error_index.append(epoch)\n",
    "            \n",
    "    return error_index, history"
   ]
  },
  {
   "cell_type": "code",
   "execution_count": 68,
   "id": "2c8146c4",
   "metadata": {},
   "outputs": [
    {
     "name": "stdout",
     "output_type": "stream",
     "text": [
      "Erro quadrático no treinamento:  0.4127240535710804\n",
      "Erro quadrático no treinamento:  0.33406685629264204\n",
      "Erro quadrático no treinamento:  0.2898280421683847\n",
      "Erro quadrático no treinamento:  0.2581194380581065\n",
      "Erro quadrático no treinamento:  0.227079044781264\n",
      "Erro quadrático no treinamento:  0.19543031840052336\n",
      "Erro quadrático no treinamento:  0.1657991596098347\n",
      "Erro quadrático no treinamento:  0.14025284160690699\n",
      "Erro quadrático no treinamento:  0.11922381482477709\n",
      "Erro quadrático no treinamento:  0.10226099246081462\n",
      "Erro quadrático no treinamento:  0.08867667672320349\n",
      "Erro quadrático no treinamento:  0.07780873261376624\n",
      "Erro quadrático no treinamento:  0.06909349985211674\n",
      "Erro quadrático no treinamento:  0.06207248298000576\n",
      "Erro quadrático no treinamento:  0.056380685214104324\n",
      "Erro quadrático no treinamento:  0.051731496069908796\n",
      "Erro quadrático no treinamento:  0.047902011476398575\n",
      "Erro quadrático no treinamento:  0.044719892955139416\n",
      "Erro quadrático no treinamento:  0.0420521986477348\n",
      "Erro quadrático no treinamento:  0.03979628105326314\n"
     ]
    }
   ],
   "source": [
    "error_index, history = train(X_train, y_train, weights, biases, epochs)"
   ]
  },
  {
   "cell_type": "markdown",
   "id": "dce90eb0",
   "metadata": {},
   "source": [
    "##  Gráfico da Evolução do Erro"
   ]
  },
  {
   "cell_type": "code",
   "execution_count": 69,
   "id": "d07698e1",
   "metadata": {},
   "outputs": [
    {
     "data": {
      "image/png": "[encoded data removed]",
      "text/plain": [
       "<Figure size 432x288 with 1 Axes>"
      ]
     },
     "metadata": {
      "needs_background": "light"
     },
     "output_type": "display_data"
    }
   ],
   "source": [
    "plt.plot(error_index, history, 'r') # 'r' is the color red\n",
    "plt.xlabel('')\n",
    "plt.ylabel('Erro Quadrático')\n",
    "plt.title('Evolução do Erro no treinamento da MPL')\n",
    "plt.show()"
   ]
  },
  {
   "cell_type": "markdown",
   "id": "ef1ac883",
   "metadata": {},
   "source": [
    "## Validação"
   ]
  },
  {
   "cell_type": "code",
   "execution_count": 71,
   "id": "932aaf3e",
   "metadata": {},
   "outputs": [
    {
     "name": "stdout",
     "output_type": "stream",
     "text": [
      "Erro Quadrático Médio da Saída Output1 é: 0.04304683356453334\n",
      "Erro Quadrático Médio da Saída Output2 é: 0.07533197849762374\n"
     ]
    }
   ],
   "source": [
    "# Calcule a precisão dos dados de teste\n",
    "n_records, n_features = X_test.shape\n",
    "mse_output1 = 0\n",
    "mse_output2 = 0\n",
    "\n",
    "for x, y in zip(X_test.values, y_test.values):\n",
    "    output = feedforward(x, weights, biases)[0][-1]\n",
    "\n",
    "    error = y - output\n",
    "    mse_output1 += (y[0] - output[0]) ** 2\n",
    "    mse_output2 += (y[1] - output[1]) ** 2\n",
    "          \n",
    "#Erro Quadrático Médio \n",
    "mse_output1 /= n_records \n",
    "mse_output2 /= n_records  \n",
    "\n",
    "print('Erro Quadrático Médio da Saída Output1 é:', mse_output1)\n",
    "print('Erro Quadrático Médio da Saída Output2 é:', mse_output2)"
   ]
  }
 ],
 "metadata": {
  "kernelspec": {
   "display_name": "Python 3",
   "language": "python",
   "name": "python3"
  },
  "language_info": {
   "codemirror_mode": {
    "name": "ipython",
    "version": 3
   },
   "file_extension": ".py",
   "mimetype": "text/x-python",
   "name": "python",
   "nbconvert_exporter": "python",
   "pygments_lexer": "ipython3",
   "version": "3.8.8"
  }
 },
 "nbformat": 4,
 "nbformat_minor": 5
}
