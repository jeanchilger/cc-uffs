{
 "cells": [
  {
   "cell_type": "markdown",
   "id": "884efd6f",
   "metadata": {},
   "source": [
    "Importação de biblioteca, utilizada em todas as tarefas."
   ]
  },
  {
   "cell_type": "code",
   "execution_count": null,
   "id": "61db2ad3",
   "metadata": {},
   "outputs": [],
   "source": [
    "import numpy as np"
   ]
  },
  {
   "cell_type": "markdown",
   "id": "34df21d3",
   "metadata": {},
   "source": [
    "# Tarefa 1: RNA Simples"
   ]
  },
  {
   "cell_type": "markdown",
   "id": "a25c8073",
   "metadata": {},
   "source": [
    "## Implementação da Função Sigmoid\n",
    "\n",
    "A função sigmoid, dada por:\n",
    "   $$\\sigma = \\frac{1}{1+e^{-x}}$$\n",
    "   \n",
    "pode ser facilmente implementada em python:"
   ]
  },
  {
   "cell_type": "code",
   "execution_count": null,
   "id": "efafffa6",
   "metadata": {},
   "outputs": [],
   "source": [
    "def sigmoid(x):\n",
    "    return 1 / (1 + np.exp(-x))"
   ]
  },
  {
   "cell_type": "markdown",
   "id": "5a86c597",
   "metadata": {},
   "source": [
    "## Vetores de entradas e pesos"
   ]
  },
  {
   "cell_type": "code",
   "execution_count": null,
   "id": "f7271f2a",
   "metadata": {},
   "outputs": [],
   "source": [
    "X = [2, 3]\n",
    "W = [0.4, 0.2]\n",
    "b = -0.3"
   ]
  },
  {
   "cell_type": "markdown",
   "id": "d7c501a0",
   "metadata": {},
   "source": [
    "## Combinação linear"
   ]
  },
  {
   "cell_type": "code",
   "execution_count": null,
   "id": "6c17421b",
   "metadata": {},
   "outputs": [],
   "source": [
    "h = np.dot(X, W) + b\n",
    "y = sigmoid(h)\n",
    "y"
   ]
  },
  {
   "cell_type": "markdown",
   "id": "a3a8e463",
   "metadata": {},
   "source": [
    "# Tarefa 2: Gradiente Descendente"
   ]
  },
  {
   "cell_type": "markdown",
   "id": "fe09be1a",
   "metadata": {},
   "source": [
    "## Vetores de entradas, pesos e saída"
   ]
  },
  {
   "cell_type": "code",
   "execution_count": null,
   "id": "9cf950e1",
   "metadata": {
    "scrolled": false
   },
   "outputs": [],
   "source": [
    "X = np.array([1, 2, 3, 4])\n",
    "Y = np.array(0.5)\n",
    "\n",
    "# Pesos aleatórios\n",
    "# Utilize W = np.array([0.5, -0.5, 0.3, 0.1]) para ficar igual ao da atividade\n",
    "W = np.random.rand(4)\n",
    "\n",
    "# Bias aleatório\n",
    "bias = np.random.rand(1)\n",
    "\n",
    "print(\"Entradas:\\t\", X)\n",
    "print(\"Saída:\\t\\t\", Y)\n",
    "print(\"Pesos:\\t\\t\", W)\n",
    "print(\"Bias:\\t\\t\", bias)"
   ]
  },
  {
   "cell_type": "markdown",
   "id": "48defc52",
   "metadata": {},
   "source": [
    "## Taxa de aprendizado"
   ]
  },
  {
   "cell_type": "code",
   "execution_count": null,
   "id": "e940501b",
   "metadata": {},
   "outputs": [],
   "source": [
    "learn_rate = 0.5"
   ]
  },
  {
   "cell_type": "markdown",
   "id": "845f7014",
   "metadata": {},
   "source": [
    "## Derivada da função de ativação sigmoidal"
   ]
  },
  {
   "cell_type": "code",
   "execution_count": null,
   "id": "f5391f69",
   "metadata": {},
   "outputs": [],
   "source": [
    "def sigmoid_prime(x):\n",
    "    return sigmoid(x) * (1 - sigmoid(x))"
   ]
  },
  {
   "cell_type": "markdown",
   "id": "71453b9b",
   "metadata": {},
   "source": [
    "## Cálculo de um passo do gradiente descendente"
   ]
  },
  {
   "cell_type": "code",
   "execution_count": null,
   "id": "ba3d1dd9",
   "metadata": {},
   "outputs": [],
   "source": [
    "# Combinação linear das entradas com os pesos\n",
    "h = np.dot(X, W) + bias\n",
    "\n",
    "# Saída da rede (a função sigmoid é a mesma utilizada na Tarefa 1)\n",
    "output = sigmoid(h)\n",
    "\n",
    "# Erro de aprendizado cometido pela rede (loss)\n",
    "error = Y - output\n",
    "\n",
    "# Termo de erro\n",
    "error_term = error * sigmoid_prime(h)\n",
    "\n",
    "# Passo de atualização (deltaW)\n",
    "del_w = learn_rate * error_term * X\n",
    "\n",
    "# Executa a atualização dos pesos\n",
    "W = W + del_w"
   ]
  },
  {
   "cell_type": "code",
   "execution_count": null,
   "id": "c5eb36bc",
   "metadata": {},
   "outputs": [],
   "source": [
    "print(\"Saída Calculada:\\t\\t\", output)\n",
    "print(\"Erro:\\t\\t\\t\\t\", error)\n",
    "print(\"Variação dos pesos:\\t\\t\", del_w)\n",
    "print(\"Novos valores para os pesos:\\t\", W)"
   ]
  },
  {
   "cell_type": "markdown",
   "id": "157f0319",
   "metadata": {},
   "source": [
    "# Tarefa 3: Atualizar Pesos"
   ]
  },
  {
   "cell_type": "markdown",
   "id": "6182d9f7",
   "metadata": {},
   "source": [
    "## Vetores de entradas, pesos e saída"
   ]
  },
  {
   "cell_type": "code",
   "execution_count": null,
   "id": "81b27066",
   "metadata": {
    "scrolled": false
   },
   "outputs": [],
   "source": [
    "X = np.array([1, 2, 3, 4])\n",
    "Y = np.array(0.5)\n",
    "\n",
    "# Pesos aleatórios\n",
    "W = np.random.rand(4)\n",
    "# Utilize a linha abaixo no lugar da anterior para ficar igual ao da atividade\n",
    "# W = np.array([0.5, -0.5, 0.3, 0.1])\n",
    "\n",
    "# Bias aleatório\n",
    "bias = np.random.rand(1)\n",
    "\n",
    "print(\"Entradas:\\t\", X)\n",
    "print(\"Saída:\\t\\t\", Y)\n",
    "print(\"Pesos:\\t\\t\", W)\n",
    "print(\"Bias:\\t\\t\", bias)"
   ]
  },
  {
   "cell_type": "markdown",
   "id": "30c88741",
   "metadata": {},
   "source": [
    "## Execução do gradiente por várias rodadas"
   ]
  },
  {
   "cell_type": "code",
   "execution_count": null,
   "id": "b770bcf0",
   "metadata": {},
   "outputs": [],
   "source": [
    "# Número de épocas de treino\n",
    "epochs = 10\n",
    "\n",
    "output = None\n",
    "error = None\n",
    "del_w = None\n",
    "\n",
    "# fazemos uma cópia para não precisar resetar os valor a cada excução\n",
    "W_copy = W.copy()\n",
    "\n",
    "for i in range(epochs):\n",
    "    # Combinação linear das entradas com os pesos\n",
    "    h = np.dot(X, W) + bias\n",
    "\n",
    "    # Saída da rede (a função sigmoid é a mesma utilizada na Tarefa 1)\n",
    "    output = sigmoid(h)\n",
    "\n",
    "    # Erro de aprendizado cometido pela rede (loss)\n",
    "    error = Y - output\n",
    "\n",
    "    # Termo de erro\n",
    "    error_term = error * sigmoid_prime(h)\n",
    "\n",
    "    # Passo de atualização (deltaW)\n",
    "    del_w = learn_rate * error_term * X\n",
    "\n",
    "    # Executa a atualização dos pesos\n",
    "    W = W + del_w"
   ]
  },
  {
   "cell_type": "code",
   "execution_count": null,
   "id": "f349d02c",
   "metadata": {},
   "outputs": [],
   "source": [
    "print(\"Saída da Rede:\\t\\t\", output)\n",
    "print(\"Erro:\\t\\t\\t\\t\", error)\n",
    "print(\"Variação dos pesos:\\t\\t\", del_w)\n",
    "print(\"Novos valores para os pesos:\\t\", W)"
   ]
  }
 ],
 "metadata": {
  "kernelspec": {
   "display_name": "Python 3",
   "language": "python",
   "name": "python3"
  },
  "language_info": {
   "codemirror_mode": {
    "name": "ipython",
    "version": 3
   },
   "file_extension": ".py",
   "mimetype": "text/x-python",
   "name": "python",
   "nbconvert_exporter": "python",
   "pygments_lexer": "ipython3",
   "version": "3.8.8"
  }
 },
 "nbformat": 4,
 "nbformat_minor": 5
}
