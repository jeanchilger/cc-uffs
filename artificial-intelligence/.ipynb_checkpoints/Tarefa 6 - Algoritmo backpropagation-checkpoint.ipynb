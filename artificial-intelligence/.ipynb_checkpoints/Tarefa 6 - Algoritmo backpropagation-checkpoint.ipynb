{
 "cells": [
  {
   "cell_type": "markdown",
   "metadata": {},
   "source": [
    "# Aplicação de um MLP em um dataset"
   ]
  },
  {
   "cell_type": "code",
   "execution_count": 1,
   "metadata": {},
   "outputs": [],
   "source": [
    "import numpy as np\n",
    "import pandas as pd\n",
    "import matplotlib.pyplot as plt\n",
    "import seaborn as sns\n",
    "%matplotlib inline\n",
    "\n",
    "from sklearn.model_selection import train_test_split"
   ]
  },
  {
   "cell_type": "code",
   "execution_count": 2,
   "metadata": {},
   "outputs": [],
   "source": [
    "dataset = pd.read_csv('arruela.csv')\n",
    "\n",
    "X_train, X_test, y_train, y_test = train_test_split(\n",
    "        dataset[[\"NumAmostra\", \"Area\", \"Delta\"]], \n",
    "        dataset[['Output1', 'Output2']], test_size=0.30, \n",
    "        random_state=101)"
   ]
  },
  {
   "cell_type": "code",
   "execution_count": 3,
   "metadata": {},
   "outputs": [],
   "source": [
    "def sigmoid(z):\n",
    "    return 1 / (1 + np.exp(-z))\n",
    "\n",
    "def sigmoid_prime(x):\n",
    "    return sigmoid(x) * (1 - sigmoid(x))"
   ]
  },
  {
   "cell_type": "markdown",
   "metadata": {},
   "source": [
    "Alterando os parâmetros abaixo (incluindo a arquitetura da rede) irá ocasionar diferentes resultados."
   ]
  },
  {
   "cell_type": "code",
   "execution_count": 42,
   "metadata": {},
   "outputs": [
    {
     "name": "stdout",
     "output_type": "stream",
     "text": [
      "(182, 3)\n"
     ]
    }
   ],
   "source": [
    "print(X_train.shape)\n",
    "shape = (3, 4, 2)\n",
    "learn_rate = 0.5\n",
    "epochs = 5000\n",
    "n_records, n_features = X_train.shape"
   ]
  },
  {
   "cell_type": "code",
   "execution_count": 33,
   "metadata": {},
   "outputs": [
    {
     "name": "stdout",
     "output_type": "stream",
     "text": [
      "Formato dos pesos:  (2, (8, 3), (2, 8))\n",
      "Formato dos biases:  (2, (8,), (2,))\n"
     ]
    }
   ],
   "source": [
    "weights = [np.random.randn(y, x) \n",
    "           for x, y in zip(shape[:-1], shape[1:])]\n",
    "\n",
    "biases = [np.random.randn(x)\n",
    "          for x in shape[1:]]\n",
    "\n",
    "print(\"Formato dos pesos: \", (len(weights), *list(w.shape for w in weights)))\n",
    "print(\"Formato dos biases: \", (len(biases), *list(b.shape for b in biases)))"
   ]
  },
  {
   "cell_type": "markdown",
   "metadata": {},
   "source": [
    "Para utilizar os mesmos pesos da solução do professor basta utilizar o trecho abaixo:"
   ]
  },
  {
   "cell_type": "code",
   "execution_count": 43,
   "metadata": {},
   "outputs": [
    {
     "name": "stdout",
     "output_type": "stream",
     "text": [
      "Formato dos pesos:  (2, (4, 3), (2, 4))\n",
      "Formato dos biases:  (2, (4,), (2,))\n"
     ]
    }
   ],
   "source": [
    "weights = [\n",
    "    np.array([[-0.08,  0.08, -0.03, 0.03],\n",
    "              [ 0.05,  0.10,  0.07, 0.02],\n",
    "              [-0.07,  0.04, -0.01, 0.01]]).T,\n",
    "    np.array([[-0.18,  0.11],\n",
    "              [-0.09,  0.05],\n",
    "              [-0.04,  0.05],\n",
    "              [-0.02,  0.07]]).T\n",
    "]\n",
    "\n",
    "biases = [\n",
    "    np.zeros(4),\n",
    "    np.zeros(2)\n",
    "]\n",
    "\n",
    "print(\"Formato dos pesos: \", (len(weights), *list(w.shape for w in weights)))\n",
    "print(\"Formato dos biases: \", (len(biases), *list(b.shape for b in biases)))"
   ]
  },
  {
   "cell_type": "code",
   "execution_count": 44,
   "metadata": {},
   "outputs": [],
   "source": [
    "def feedforward(x, weights, biases):\n",
    "    \"\"\"\n",
    "    Executa o passo forward da rede, e retorna as\n",
    "    ativações (e produtos) da rede em todas as camadas.\n",
    "    \"\"\"\n",
    "    activations = [x]\n",
    "    activation = x\n",
    "    inner_products = []\n",
    "    \n",
    "    for w, b in zip(weights, biases):\n",
    "        z = np.dot(activation, w.T)\n",
    "        activation = sigmoid(z)\n",
    "        \n",
    "        inner_products.append(z)\n",
    "        activations.append(activation)\n",
    "        \n",
    "    return activations, inner_products"
   ]
  },
  {
   "cell_type": "markdown",
   "metadata": {},
   "source": [
    "Para o algoritmo de backpropagation, foram utilizadas as equações:\n",
    "\n",
    "$$\n",
    "\\begin{eqnarray} \n",
    "  \\delta^L = (a^L-y) \\odot \\sigma'(z^L).\n",
    "\\tag{1}\\end{eqnarray}\n",
    "$$\n",
    "\n",
    "e\n",
    "\n",
    "$$\n",
    "\\begin{eqnarray} \n",
    "  \\delta^l = ((w^{l+1})^T \\delta^{l+1}) \\odot \\sigma'(z^l),\n",
    "\\tag{2}\\end{eqnarray}\n",
    "$$\n",
    "\n",
    "$(1)$ representa o erro na camada de saída $L$, ao passo que $(2)$ representa o erro em função do erro na camada posterior à camada atual $l$. O símbolo $\\odot$ representa a multiplicação item à item."
   ]
  },
  {
   "cell_type": "code",
   "execution_count": 45,
   "metadata": {},
   "outputs": [],
   "source": [
    "def backpropagate(x, y, weights, biases):\n",
    "    \"\"\"\n",
    "    Executa o algoritmo de backpropagation, retornando\n",
    "    as taxas de atualização dos pesos (deltas).\n",
    "    \"\"\"\n",
    "    \n",
    "    activations, products = feedforward(x, weights, biases)\n",
    "    # inicializa o vetor de termos de erros, para que as camadas possam\n",
    "    # ser preenchidas na ordem correta.\n",
    "#     print(activations)\n",
    "#     input()\n",
    "    delta_w = [np.zeros(w.shape) for w in weights]\n",
    "    \n",
    "    error_term = (y - activations[-1]) * sigmoid_prime(products[-1])\n",
    "#     print(error_term.shape)\n",
    "    \n",
    "    delta_w[-1] = error_term * activations[-2].reshape(-1, 1)\n",
    "    \n",
    "    for l in range(2, len(shape)):\n",
    "        error_term = np.dot(weights[-l + 1].T, error_term) * sigmoid_prime(products[-l])\n",
    "        \n",
    "        delta_w[-l] = error_term * activations[-l-1].reshape(-1, 1)\n",
    "        \n",
    "#     print(delta_w)\n",
    "#     input()\n",
    "    return delta_w"
   ]
  },
  {
   "cell_type": "code",
   "execution_count": 48,
   "metadata": {},
   "outputs": [],
   "source": [
    "def train(X, y, weights, biases, epochs=10, learn_rate=0.05):\n",
    "    last_loss = None\n",
    "    history = []\n",
    "    error_index = []\n",
    "\n",
    "    _weights = weights.copy()\n",
    "    _biases = biases.copy()\n",
    "    for epoch in range(epochs):\n",
    "        delta_w = [np.zeros(w.shape) for w in weights]\n",
    "        for x, y in zip(X_train.values, y_train.values):\n",
    "            output = feedforward(x, weights, biases)[0][-1]\n",
    "            delta_w = [d + d_.T for d, d_ in zip(delta_w, backpropagate(x, y, weights, biases))]\n",
    "#             print(\"==================================================\")\n",
    "#             print(delta_w)\n",
    "#             print(\"==================================================\")\n",
    "#             print()\n",
    "#             input()\n",
    "\n",
    "\n",
    "        weights = [w + learn_rate * d / len(X)\n",
    "                   for w, d in zip(weights, delta_w)]\n",
    "        \n",
    "        if  epoch % (epochs / 20) == 0:\n",
    "            output = feedforward(x, weights, biases)[0][-1]\n",
    "            print(\"output:\", output)\n",
    "            print(\"y:\", y)\n",
    "            input()\n",
    "            loss = np.mean((output - y) ** 2)\n",
    "\n",
    "            if last_loss and last_loss < loss:\n",
    "                print(\"Erro quadrático no treinamento: \", loss, \" Atenção: O erro está aumentando\")\n",
    "            else:\n",
    "                print(\"Erro quadrático no treinamento: \", loss)\n",
    "            last_loss = loss\n",
    "\n",
    "            history.append(loss)\n",
    "            error_index.append(epoch)\n",
    "            \n",
    "    return error_index, history, weights"
   ]
  },
  {
   "cell_type": "code",
   "execution_count": 49,
   "metadata": {
    "scrolled": true
   },
   "outputs": [
    {
     "name": "stdout",
     "output_type": "stream",
     "text": [
      "Erro quadrático no treinamento:  0.2902418957843359\n",
      "Erro quadrático no treinamento:  0.3330006276358039  Atenção: O erro está aumentando\n",
      "Erro quadrático no treinamento:  0.30420305230371036\n",
      "Erro quadrático no treinamento:  0.2591651274539609\n",
      "Erro quadrático no treinamento:  0.21791343111412848\n",
      "Erro quadrático no treinamento:  0.18507104925991846\n",
      "Erro quadrático no treinamento:  0.16016138036480243\n",
      "Erro quadrático no treinamento:  0.13739308880056234\n",
      "Erro quadrático no treinamento:  0.11798778193340174\n",
      "Erro quadrático no treinamento:  0.1056413570831789\n",
      "Erro quadrático no treinamento:  0.09700339127075\n",
      "Erro quadrático no treinamento:  0.09058243074187292\n",
      "Erro quadrático no treinamento:  0.08566278050775779\n",
      "Erro quadrático no treinamento:  0.08189254780209326\n",
      "Erro quadrático no treinamento:  0.07825319722299506\n",
      "Erro quadrático no treinamento:  0.07545820073890093\n",
      "Erro quadrático no treinamento:  0.07318758799804508\n",
      "Erro quadrático no treinamento:  0.07128467563889007\n",
      "Erro quadrático no treinamento:  0.06965164934991638\n",
      "Erro quadrático no treinamento:  0.06822383374866059\n"
     ]
    }
   ],
   "source": [
    "error_index, history, weights = train(X_train, y_train, weights, biases, epochs)"
   ]
  },
  {
   "cell_type": "markdown",
   "metadata": {},
   "source": [
    "##  Gráfico da Evolução do Erro"
   ]
  },
  {
   "cell_type": "code",
   "execution_count": 38,
   "metadata": {},
   "outputs": [
    {
     "data": {
      "image/png": "[encoded data removed]",
      "text/plain": [
       "<Figure size 432x288 with 1 Axes>"
      ]
     },
     "metadata": {
      "needs_background": "light"
     },
     "output_type": "display_data"
    }
   ],
   "source": [
    "plt.plot(error_index, history, 'r') # 'r' is the color red\n",
    "plt.xlabel('')\n",
    "plt.ylabel('Erro Quadrático')\n",
    "plt.title('Evolução do Erro no treinamento da MPL')\n",
    "plt.show()"
   ]
  },
  {
   "cell_type": "markdown",
   "metadata": {},
   "source": [
    "## Validação"
   ]
  },
  {
   "cell_type": "code",
   "execution_count": 39,
   "metadata": {},
   "outputs": [
    {
     "name": "stdout",
     "output_type": "stream",
     "text": [
      "A Acurácia da Predição é de: 0.797\n",
      "Erro Quadrático Médio da Saída Output1 é: 0.16010189603125483\n",
      "Erro Quadrático Médio da Saída Output2 é: 0.16245552362238772\n"
     ]
    }
   ],
   "source": [
    "# Calcule a precisão dos dados de teste\n",
    "n_records, n_features = X_test.shape\n",
    "mse_output1 = 0\n",
    "mse_output2 = 0\n",
    "\n",
    "predictions = 0\n",
    "for x, y in zip(X_test.values, y_test.values):\n",
    "    output = feedforward(x, weights, biases)[0][-1]\n",
    "    \n",
    "    if (output[0] > output[1]):\n",
    "        if (y[0] > y[1]):\n",
    "            predictions+=1\n",
    "                \n",
    "    if (output[1] >= output[0]):\n",
    "        if (y[1] > y[0]):\n",
    "            predictions+=1\n",
    "\n",
    "    error = y - output\n",
    "    mse_output1 += (y[0] - output[0]) ** 2\n",
    "    mse_output2 += (y[1] - output[1]) ** 2\n",
    "    \n",
    "print(\"A Acurácia da Predição é de: {:.3f}\".format(predictions/n_records))\n",
    "          \n",
    "#Erro Quadrático Médio \n",
    "mse_output1 /= n_records \n",
    "mse_output2 /= n_records  \n",
    "\n",
    "print('Erro Quadrático Médio da Saída Output1 é:', mse_output1)\n",
    "print('Erro Quadrático Médio da Saída Output2 é:', mse_output2)"
   ]
  }
 ],
 "metadata": {
  "kernelspec": {
   "display_name": "Python 3",
   "language": "python",
   "name": "python3"
  },
  "language_info": {
   "codemirror_mode": {
    "name": "ipython",
    "version": 3
   },
   "file_extension": ".py",
   "mimetype": "text/x-python",
   "name": "python",
   "nbconvert_exporter": "python",
   "pygments_lexer": "ipython3",
   "version": "3.8.5"
  }
 },
 "nbformat": 4,
 "nbformat_minor": 5
}
